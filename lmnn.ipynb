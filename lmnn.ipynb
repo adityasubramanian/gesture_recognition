{
 "cells": [
  {
   "cell_type": "code",
   "execution_count": 11,
   "metadata": {
    "collapsed": false
   },
   "outputs": [],
   "source": [
    "import numpy as np \n",
    "\n",
    "y = np.loadtxt('/home/aditya/Documents/UIUC/spring_2016/STAT427/project/uci_har_dataset/test/y_test.txt')\n",
    "x = np.loadtxt('/home/aditya/Documents/UIUC/spring_2016/STAT427/project/uci_har_dataset/test/X_test.txt')"
   ]
  },
  {
   "cell_type": "code",
   "execution_count": 13,
   "metadata": {
    "collapsed": false
   },
   "outputs": [
    {
     "data": {
      "image/png": "[encoded data removed]",
      "text/plain": [
       "<matplotlib.figure.Figure at 0x7f1c503853d0>"
      ]
     },
     "metadata": {},
     "output_type": "display_data"
    }
   ],
   "source": [
    "import matplotlib.pyplot as pyplot\n",
    "\n",
    "%matplotlib inline\n",
    "\n",
    "def plot_data(features,labels,axis,alpha=1.0):\n",
    "    # separate features according to their class\n",
    "    X0,X1,X2 = features[labels==0], features[labels==1], features[labels==2]\n",
    "    \n",
    "    # class 0 data\n",
    "    axis.plot(X0[:,0], X0[:,1], 'o', color='green', markersize=12, alpha=alpha)\n",
    "    # class 1 data\n",
    "    axis.plot(X1[:,0], X1[:,1], 'o', color='red', markersize=12, alpha=alpha)\n",
    "    # class 2 data\n",
    "    axis.plot(X2[:,0], X2[:,1], 'o', color='blue', markersize=12, alpha=alpha)\n",
    "    \n",
    "    # set axes limits\n",
    "    axis.set_xlim(-1.5,1.5)\n",
    "    axis.set_ylim(-1.5,1.5)\n",
    "    axis.set_aspect('equal')\n",
    "    \n",
    "    axis.set_xlabel('x')\n",
    "    axis.set_ylabel('y')\n",
    "\n",
    "figure,axis = pyplot.subplots(1,1)\n",
    "plot_data(x,y,axis)\n",
    "axis.set_title('Test data set')\n",
    "pyplot.show()"
   ]
  },
  {
   "cell_type": "code",
   "execution_count": 14,
   "metadata": {
    "collapsed": false
   },
   "outputs": [
    {
     "data": {
      "image/png": "[encoded data removed]",
      "text/plain": [
       "<matplotlib.figure.Figure at 0x7f1c50244a10>"
      ]
     },
     "metadata": {},
     "output_type": "display_data"
    }
   ],
   "source": [
    "def make_covariance_ellipse(covariance):\n",
    "    import matplotlib.patches as patches\n",
    "    import scipy.linalg       as linalg\n",
    "    \n",
    "    # the ellipse is centered at (0,0)\n",
    "    mean = numpy.array([0,0])\n",
    "    \n",
    "    # eigenvalue decomposition of the covariance matrix (w are eigenvalues and v eigenvectors),\n",
    "    # keeping only the real part\n",
    "    w,v = linalg.eigh(covariance)\n",
    "    # normalize the eigenvector corresponding to the largest eigenvalue\n",
    "    u = v[0]/linalg.norm(v[0])\n",
    "    # angle in degrees\n",
    "    angle = 180.0/numpy.pi*numpy.arctan(u[1]/u[0])\n",
    "    # fill Gaussian ellipse at 2 standard deviation\n",
    "    ellipse = patches.Ellipse(mean, 2*w[0]**0.5, 2*w[1]**0.5, 180+angle, color='orange', alpha=0.3)\n",
    "    \n",
    "    return ellipse\n",
    "\n",
    "# represent the Euclidean distance\n",
    "figure,axis = pyplot.subplots(1,1)\n",
    "plot_data(x,y,axis)\n",
    "ellipse = make_covariance_ellipse(numpy.eye(2))\n",
    "axis.add_artist(ellipse)\n",
    "axis.set_title('Euclidean distance')\n",
    "pyplot.show()"
   ]
  },
  {
   "cell_type": "code",
   "execution_count": 9,
   "metadata": {
    "collapsed": false
   },
   "outputs": [
    {
     "ename": "ImportError",
     "evalue": "No module named modshogun",
     "output_type": "error",
     "traceback": [
      "\u001b[1;31m---------------------------------------------------------------------------\u001b[0m",
      "\u001b[1;31mImportError\u001b[0m                               Traceback (most recent call last)",
      "\u001b[1;32m<ipython-input-9-f74736c9c961>\u001b[0m in \u001b[0;36m<module>\u001b[1;34m()\u001b[0m\n\u001b[1;32m----> 1\u001b[1;33m \u001b[1;32mfrom\u001b[0m \u001b[0mmodshogun\u001b[0m \u001b[1;32mimport\u001b[0m \u001b[0mRealFeatures\u001b[0m\u001b[1;33m,\u001b[0m \u001b[0mMulticlassLabels\u001b[0m\u001b[1;33m\u001b[0m\u001b[0m\n\u001b[0m\u001b[0;32m      2\u001b[0m \u001b[1;33m\u001b[0m\u001b[0m\n\u001b[0;32m      3\u001b[0m \u001b[0mfeatures\u001b[0m \u001b[1;33m=\u001b[0m \u001b[0mRealFeatures\u001b[0m\u001b[1;33m(\u001b[0m\u001b[0mx\u001b[0m\u001b[1;33m.\u001b[0m\u001b[0mT\u001b[0m\u001b[1;33m)\u001b[0m\u001b[1;33m\u001b[0m\u001b[0m\n\u001b[0;32m      4\u001b[0m \u001b[0mlabels\u001b[0m   \u001b[1;33m=\u001b[0m \u001b[0mMulticlassLabels\u001b[0m\u001b[1;33m(\u001b[0m\u001b[0my\u001b[0m\u001b[1;33m.\u001b[0m\u001b[0mastype\u001b[0m\u001b[1;33m(\u001b[0m\u001b[0mnumpy\u001b[0m\u001b[1;33m.\u001b[0m\u001b[0mfloat64\u001b[0m\u001b[1;33m)\u001b[0m\u001b[1;33m)\u001b[0m\u001b[1;33m\u001b[0m\u001b[0m\n",
      "\u001b[1;31mImportError\u001b[0m: No module named modshogun"
     ]
    }
   ],
   "source": [
    "from modshogun import RealFeatures, MulticlassLabels\n",
    "\n",
    "features = RealFeatures(x.T)\n",
    "labels   = MulticlassLabels(y.astype(numpy.float64))\n",
    "\n"
   ]
  },
  {
   "cell_type": "code",
   "execution_count": null,
   "metadata": {
    "collapsed": true
   },
   "outputs": [],
   "source": [
    "from modshogun import LMNN\n",
    "\n",
    "# number of target neighbours per example\n",
    "k = 1\n",
    "\n",
    "lmnn = LMNN(features,labels,k)\n",
    "# set an initial transform as a start point of the optimization\n",
    "init_transform = numpy.eye(2)\n",
    "lmnn.set_maxiter(2000)\n",
    "lmnn.train(init_transform)"
   ]
  }
 ],
 "metadata": {
  "kernelspec": {
   "display_name": "Python 2",
   "language": "python",
   "name": "python2"
  },
  "language_info": {
   "codemirror_mode": {
    "name": "ipython",
    "version": 2
   },
   "file_extension": ".py",
   "mimetype": "text/x-python",
   "name": "python",
   "nbconvert_exporter": "python",
   "pygments_lexer": "ipython2",
   "version": "2.7.6"
  }
 },
 "nbformat": 4,
 "nbformat_minor": 0
}
