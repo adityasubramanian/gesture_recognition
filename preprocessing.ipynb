{
 "cells": [
  {
   "cell_type": "code",
   "execution_count": 1,
   "metadata": {
    "collapsed": false
   },
   "outputs": [],
   "source": [
    "import os\n",
    "import pandas as pd\n",
    "import numpy as np\n",
    "import scipy as sp\n",
    "import sklearn\n",
    "import crf\n",
    "import utilities\n",
    "from crf import LinearCRFEnsemble\n",
    "from sklearn import preprocessing\n",
    "from sklearn import cross_validation\n",
    "from sklearn.cross_validation import KFold\n",
    "from sklearn.feature_selection import RFECV\n",
    "from sklearn.linear_model import LogisticRegression\n",
    "from sklearn.metrics import zero_one_loss\n",
    "from sklearn.svm.classes import LinearSVC\n",
    "from sklearn import svm\n",
    "from sklearn.linear_model import LogisticRegression\n",
    "from sklearn.linear_model import SGDClassifier\n",
    "from sklearn.naive_bayes import GaussianNB\n",
    "from sklearn.tree import DecisionTreeClassifier\n",
    "from sklearn.ensemble import GradientBoostingClassifier\n",
    "from sklearn.ensemble import RandomForestClassifier\n",
    "from sklearn.neighbors import KNeighborsClassifier\n",
    "from sklearn.preprocessing import StandardScaler\n",
    "from sklearn.preprocessing import OneHotEncoder\n",
    "from svmhmm import SVMHMMCRF\n",
    "from sklearn.metrics import accuracy_score\n",
    "from sklearn.metrics import confusion_matrix, classification_report\n",
    "from sklearn.svm.classes import LinearSVC\n",
    "from sklearn.base import BaseEstimator"
   ]
  },
  {
   "cell_type": "code",
   "execution_count": 2,
   "metadata": {
    "collapsed": true
   },
   "outputs": [],
   "source": [
    "# Setting up data input types. \n",
    "\n",
    "#Train \n",
    "\n",
    "X_train = np.loadtxt('/home/aditya/Documents/UIUC/spring_2016/STAT427/project/uci_har_dataset/train/X_train.txt')\n",
    "y_train = np.loadtxt('/home/aditya/Documents/UIUC/spring_2016/STAT427/project/uci_har_dataset/train/y_train.txt', dtype=np.int)\n",
    "persons_train = np.loadtxt('/home/aditya/Documents/UIUC/spring_2016/STAT427/project/uci_har_dataset/train/subject_train.txt', dtype=np.int)\n",
    "\n",
    "#Test \n",
    "X_test = np.loadtxt('/home/aditya/Documents/UIUC/spring_2016/STAT427/project/uci_har_dataset/test/X_test.txt')\n",
    "y_test = np.loadtxt('/home/aditya/Documents/UIUC/spring_2016/STAT427/project/uci_har_dataset/test/y_test.txt', dtype=np.int)\n",
    "persons_test = np.loadtxt('/home/aditya/Documents/UIUC/spring_2016/STAT427/project/uci_har_dataset/test/subject_test.txt', dtype=np.int)\n",
    "\n",
    "# X and Y for both axises. \n",
    "X_all = np.concatenate([X_train, X_test])\n",
    "y_all = np.concatenate([y_train, y_test])\n",
    "    \n",
    "feature_names = [x.split(' ')[1] for x in open('/home/aditya/Documents/UIUC/spring_2016/STAT427/project/uci_har_dataset/features.txt').read().split('\\n') if len(x) > 0]\n",
    "\n"
   ]
  },
  {
   "cell_type": "code",
   "execution_count": 6,
   "metadata": {
    "collapsed": false
   },
   "outputs": [
    {
     "data": {
      "text/plain": [
       "RFECV(cv=sklearn.cross_validation.KFold(n=10299, n_folds=3, shuffle=True, random_state=1),\n",
       "   estimator=LogisticRegression(C=1.0, class_weight=None, dual=False, fit_intercept=True,\n",
       "          intercept_scaling=1, max_iter=100, multi_class='ovr',\n",
       "          penalty='l1', random_state=None, solver='liblinear', tol=0.0001,\n",
       "          verbose=0),\n",
       "   estimator_params=None, scoring=None, step=5, verbose=0)"
      ]
     },
     "execution_count": 6,
     "metadata": {},
     "output_type": "execute_result"
    }
   ],
   "source": [
    "#http://scikit-learn.org/dev/auto_examples/plot_rfe_with_cross_validation.html#example-plot-rfe-with-cross-validation-py\n",
    "\n",
    "n_folds = 3\n",
    "\n",
    "\n",
    "rfecv = RFECV(estimator=LogisticRegression(penalty = 'l1'), step=5, cv=KFold(len(X_all), n_folds=n_folds, shuffle=True, random_state=1))\n",
    "\n",
    "rfecv.fit(X_all, y_all)\n",
    "\n",
    "\n",
    "\n",
    "\n"
   ]
  },
  {
   "cell_type": "code",
   "execution_count": 20,
   "metadata": {
    "collapsed": true
   },
   "outputs": [],
   "source": [
    "def SVM_feature_extraction():\n",
    "    clf = svm.LinearSVC\n",
    "    clf.fit(X_train,y_train)\n",
    "    X_train_t = clf.decision_function(X_train)\n",
    "    X_test_t = clf.decision_function(X_test)\n",
    "    \n",
    "    return (X_train_t, X_test_t)"
   ]
  },
  {
   "cell_type": "code",
   "execution_count": 21,
   "metadata": {
    "collapsed": true
   },
   "outputs": [],
   "source": [
    "def run_clfs_on_data(classifiers, Xs, ys, add_last_action = False):\n",
    "    results = {}\n",
    "    for name, clf in classifiers.iteritems():\n",
    "        print \"running %s\" % name\n",
    "        clf_results = fit_clf_kfold(clf['clf'], Xs, ys, flatten=not clf['structured'], add_last_action=add_last_action)\n",
    "        # with feature selection:\n",
    "        clf_results = fit_clf_kfold(clf['clf'], [X[:,select_features] for X in X_pers_all], y_pers_all,flatten=not clf['structured'])\n",
    "        results[name] = clf_results\n",
    "    return results\n"
   ]
  },
  {
   "cell_type": "code",
   "execution_count": 22,
   "metadata": {
    "collapsed": true
   },
   "outputs": [],
   "source": [
    "def plot_most_important_features(clf, label_names, feature_names, n=10, best=True, absolut=True):\n",
    "    if absolut:\n",
    "        ranked_features = np.argsort(np.abs(clf.coef_), axis=None)\n",
    "    else:\n",
    "        ranked_features = np.argsort(clf.coef_, axis=None)\n",
    "        \n",
    "    if best:\n",
    "        ranked_features = ranked_features[::-1] #inverse to get the best first\n",
    "        \n",
    "    for i, fweights_idx in enumerate(ranked_features[:n]):\n",
    "            label_idx,feature_idx = np.unravel_index(fweights_idx, clf.coef_.shape)\n",
    "            print \"%d. f: %s\\t\\t c: %s\\t value: %f\" % (i, feature_names[feature_idx], label_names[label_idx], clf.coef_[(label_idx,feature_idx)])\n",
    "            \n",
    "    "
   ]
  },
  {
   "cell_type": "code",
   "execution_count": 23,
   "metadata": {
    "collapsed": true
   },
   "outputs": [],
   "source": [
    "def unflatten_per_person(X_all,y_all,persons_all):\n",
    "    \"\"\"\n",
    "        X: n_samples, n_features\n",
    "            The full feature matrix.\n",
    "        y: label for each row in X\n",
    "        person: person label for each row in X\n",
    "        \n",
    "        returns: (X_person, y_person) \n",
    "            X_person: n_persons array of X and y that apply to this person.\n",
    "    \"\"\"\n",
    "    Xtotal, y_total, Xperson, y_person = [], [], [], []\n",
    "    last_person = persons_all[0]\n",
    "    for row,y,person in zip(X_all,y_all,persons_all):\n",
    "        if person != last_person:\n",
    "            Xtotal.append(Xperson)\n",
    "            y_total.append(y_person)\n",
    "            Xperson = []\n",
    "            y_person = []\n",
    "        Xperson.append(row)\n",
    "        y_person.append(y)\n",
    "        \n",
    "        last_person = person\n",
    "        \n",
    "    Xtotal.append(Xperson)\n",
    "    y_total.append(y_person)\n",
    "      \n",
    "    \n",
    "    return ([np.array(x) for x in Xtotal], [np.array(y) for y in y_total])"
   ]
  },
  {
   "cell_type": "code",
   "execution_count": 24,
   "metadata": {
    "collapsed": false
   },
   "outputs": [
    {
     "name": "stdout",
     "output_type": "stream",
     "text": [
      "TWEIGHT True\n",
      "ADDONE True\n"
     ]
    }
   ],
   "source": [
    "from crf import LinearCRF\n",
    "LinearCRF = LinearCRF(BaseEstimator)\n",
    "labels = None "
   ]
  },
  {
   "cell_type": "code",
   "execution_count": 16,
   "metadata": {
    "collapsed": true
   },
   "outputs": [],
   "source": [
    "def main(X_train,y_train,persons_train, X_test, y_test, persons_test, X_all, y_all): \n",
    "    print \"Data:\"\n",
    "    X_train_pers, y_train_pers = unflatten_per_person(X_train, y_train, persons_train)\n",
    "    X_test_pers, y_test_pers = unflatten_per_person(X_test, y_test, persons_test)\n",
    "    X_pers_all = []\n",
    "    X_pers_all.extend(X_train_pers)\n",
    "    X_pers_all.extend(X_test_pers)\n",
    "    y_pers_all = []\n",
    "    y_pers_all.extend(y_train_pers)\n",
    "    y_pers_all.extend(y_test_pers)\n",
    "    \n",
    "    print \"training classifier\"\n",
    "    \n",
    "    ensemble_classifiers = {\n",
    "                                \"linear Support Vector Classifier\": {'clf': LinearSVC(), 'structured': False},\n",
    "                                \"Logistic Regression\": {'clf': LogisticRegression(), 'structured': False},\n",
    "                                \"SGDClassifier\":{'clf': SGDClassifier(),'structured':False},\n",
    "                                }\n",
    "    \n",
    "    crf_ensemble = LinearCRFEnsemble(ensemble_classifiers, addone=True, regularization=None, lmbd=0.01, sigma=100, transition_weighting=True)\n",
    "    \n",
    "    classifiers = {\n",
    "                   \"SGDClassifier\":{'clf': SGDClassifier(),'structured':False},\n",
    "                   \"Logistic Regression\": {'clf': LogisticRegression(), 'structured': False},\n",
    "                   \"linear Support Vector Classifier\": {'clf': LinearSVC(), 'structured': False},\n",
    "                   \"Gaussian Naive Bayes\": {'clf': GaussianNB(), 'structured': False},\n",
    "                   #\"SVMHMM\": {'clf': SVMHMMCRF(C=1), 'structured': True},\n",
    "                   \"KNN (weights: uniform, neighbors=5)\": {'clf': KNeighborsClassifier(), 'structured': False},\n",
    "                   \"Decision Tree\": {'clf': DecisionTreeClassifier(), 'structured': False},\n",
    "                   \"RandomForest\": {'clf': RandomForestClassifier(), 'structured': False},\n",
    "                   \"CRF\": {'clf': LinearCRF(feature_names=feature_names, label_names=labels, addone=True, regularization=\"l2\", lmbd=0.01, sigma=100, transition_weighting=False),\n",
    "                            'structured': True},\n",
    "                   }\n",
    "    \n",
    "    results = run_clfs_on_data(classifiers, X_pers_all, y_pers_all)\n",
    "    \n",
    "    results_last_action = run_clfs_on_data(classifiers, X_pers_all, y_pers_all, add_last_action=True)\n",
    "    \n",
    "    for clf_name in results:\n",
    "        clf_results = results[clf_name]\n",
    "        accuracies = np.array([accuracy_score(gold, predict) for gold, predict in clf_results])\n",
    "        print accuracies\n",
    "        print \"%s accuracy: %f +- %f\" % (clf_name, accuracies.mean(), accuracies.std())\n",
    "        smoothness_predict = np.array([label_smoothness(predict) for gold, predict in clf_results])\n",
    "        print \"%s smoothness: %f +- %f\" % (clf_name, smoothness_predict.mean(), smoothness_predict.std())\n",
    "        smoothness_gold = np.array([label_smoothness(gold) for gold, predict in clf_results])\n",
    "        print \"smoothess(gold): %f +- %f\" % (smoothness_gold.mean(), smoothness_gold.std())\n",
    "        \n",
    "        y_all_gold = np.concatenate(zip(*clf_results)[0])\n",
    "        y_all_predict = np.concatenate(zip(*clf_results)[1])\n",
    "        \n",
    "        print classification_report(y_all_gold, y_all_predict, target_names = labels)\n",
    "        print confusion_matrix_report(y_all_gold, y_all_predict, labels)\n",
    "        print confusion_matrix(y_all_gold, y_all_predict)\n",
    "        \n",
    "        \n",
    "    \n",
    "    crf_classifiers =  {\n",
    "                        \"CRF\": {'clf': LinearCRF(feature_names=feature_names, label_names=labels, addone=True, regularization=\"l2\", lmbd=0.01, sigma=100, transition_weighting=False),\n",
    "                            'structured': True},\n",
    "                        \"CRF transition weights\": {'clf': LinearCRF(feature_names=feature_names, label_names=labels, addone=True, regularization=\"l2\", lmbd=0.01, sigma=100, transition_weighting=True),\n",
    "                            'structured': True},\n",
    "                        }\n",
    "    \n",
    "    crf_unregularized_classifiers =  {\n",
    "                        \"CRF\": {'clf': LinearCRF(feature_names=feature_names, label_names=labels, addone=True, regularization=None, lmbd=0.01, sigma=10, transition_weighting=False),\n",
    "                            'structured': True},\n",
    "                        \"CRF transition weights\": {'clf': LinearCRF(feature_names=feature_names, label_names=labels, addone=True, regularization=None, lmbd=0.01, sigma=10, transition_weighting=True),\n",
    "                            'structured': True},\n",
    "                        }\n",
    "    \n",
    "    crf_classifiers_l2_best = {\n",
    "                   \"CRF (sigma=1)\": {'clf': LinearCRF(feature_names=feature_names, label_names=labels, addone=True, regularization=\"l2\", lmbd=0.01, sigma=1, transition_weighting=False),\n",
    "                            'structured': True},\n",
    "                   \"CRF (sigma=10)\": {'clf': LinearCRF(feature_names=feature_names, label_names=labels, addone=True, regularization=\"l2\", lmbd=0.01, sigma=10, transition_weighting=False),\n",
    "                            'structured': True},\n",
    "                    \"CRF (sigma=100)\": {'clf': LinearCRF(feature_names=feature_names, label_names=labels, addone=True, regularization=\"l2\", lmbd=0.01, sigma=100, transition_weighting=False),\n",
    "                            'structured': True},\n",
    "                    \"CRF (sigma=1000)\": {'clf': LinearCRF(feature_names=feature_names, label_names=labels, addone=True, regularization=\"l2\", lmbd=0.01, sigma=1000, transition_weighting=False),\n",
    "                            'structured': True},\n",
    "                    \"CRF (sigma=.1)\": {'clf': LinearCRF(feature_names=feature_names, label_names=labels, addone=True, regularization=\"l2\", lmbd=0.01, sigma=0.1, transition_weighting=False),\n",
    "                            'structured': True},\n",
    "                   }\n",
    "\n",
    "    "
   ]
  },
  {
   "cell_type": "code",
   "execution_count": 17,
   "metadata": {
    "collapsed": false
   },
   "outputs": [
    {
     "name": "stdout",
     "output_type": "stream",
     "text": [
      "Data:\n",
      "training classifier\n",
      "TWEIGHT True\n",
      "ADDONE True\n"
     ]
    },
    {
     "ename": "TypeError",
     "evalue": "'LinearCRF' object is not callable",
     "output_type": "error",
     "traceback": [
      "\u001b[1;31m---------------------------------------------------------------------------\u001b[0m",
      "\u001b[1;31mTypeError\u001b[0m                                 Traceback (most recent call last)",
      "\u001b[1;32m<ipython-input-17-cf5ad87a9eb7>\u001b[0m in \u001b[0;36m<module>\u001b[1;34m()\u001b[0m\n\u001b[1;32m----> 1\u001b[1;33m \u001b[0mmain\u001b[0m\u001b[1;33m(\u001b[0m\u001b[0mX_train\u001b[0m\u001b[1;33m,\u001b[0m\u001b[0my_train\u001b[0m\u001b[1;33m,\u001b[0m\u001b[0mpersons_train\u001b[0m\u001b[1;33m,\u001b[0m \u001b[0mX_test\u001b[0m\u001b[1;33m,\u001b[0m \u001b[0my_test\u001b[0m\u001b[1;33m,\u001b[0m \u001b[0mpersons_test\u001b[0m\u001b[1;33m,\u001b[0m \u001b[0mX_all\u001b[0m\u001b[1;33m,\u001b[0m \u001b[0my_all\u001b[0m\u001b[1;33m)\u001b[0m\u001b[1;33m\u001b[0m\u001b[0m\n\u001b[0m",
      "\u001b[1;32m<ipython-input-16-99f4a6918acc>\u001b[0m in \u001b[0;36mmain\u001b[1;34m(X_train, y_train, persons_train, X_test, y_test, persons_test, X_all, y_all)\u001b[0m\n\u001b[0;32m     29\u001b[0m                    \u001b[1;34m\"Decision Tree\"\u001b[0m\u001b[1;33m:\u001b[0m \u001b[1;33m{\u001b[0m\u001b[1;34m'clf'\u001b[0m\u001b[1;33m:\u001b[0m \u001b[0mDecisionTreeClassifier\u001b[0m\u001b[1;33m(\u001b[0m\u001b[1;33m)\u001b[0m\u001b[1;33m,\u001b[0m \u001b[1;34m'structured'\u001b[0m\u001b[1;33m:\u001b[0m \u001b[0mFalse\u001b[0m\u001b[1;33m}\u001b[0m\u001b[1;33m,\u001b[0m\u001b[1;33m\u001b[0m\u001b[0m\n\u001b[0;32m     30\u001b[0m                    \u001b[1;34m\"RandomForest\"\u001b[0m\u001b[1;33m:\u001b[0m \u001b[1;33m{\u001b[0m\u001b[1;34m'clf'\u001b[0m\u001b[1;33m:\u001b[0m \u001b[0mRandomForestClassifier\u001b[0m\u001b[1;33m(\u001b[0m\u001b[1;33m)\u001b[0m\u001b[1;33m,\u001b[0m \u001b[1;34m'structured'\u001b[0m\u001b[1;33m:\u001b[0m \u001b[0mFalse\u001b[0m\u001b[1;33m}\u001b[0m\u001b[1;33m,\u001b[0m\u001b[1;33m\u001b[0m\u001b[0m\n\u001b[1;32m---> 31\u001b[1;33m                    \"CRF\": {'clf': LinearCRF(feature_names=feature_names, label_names=labels, addone=True, regularization=\"l2\", lmbd=0.01, sigma=100, transition_weighting=False),\n\u001b[0m\u001b[0;32m     32\u001b[0m                             'structured': True},\n\u001b[0;32m     33\u001b[0m                    }\n",
      "\u001b[1;31mTypeError\u001b[0m: 'LinearCRF' object is not callable"
     ]
    }
   ],
   "source": [
    "main(X_train,y_train,persons_train, X_test, y_test, persons_test, X_all, y_all)"
   ]
  },
  {
   "cell_type": "code",
   "execution_count": null,
   "metadata": {
    "collapsed": false
   },
   "outputs": [],
   "source": []
  },
  {
   "cell_type": "code",
   "execution_count": null,
   "metadata": {
    "collapsed": false
   },
   "outputs": [],
   "source": []
  },
  {
   "cell_type": "code",
   "execution_count": null,
   "metadata": {
    "collapsed": true
   },
   "outputs": [],
   "source": []
  }
 ],
 "metadata": {
  "kernelspec": {
   "display_name": "Python 2",
   "language": "python",
   "name": "python2"
  },
  "language_info": {
   "codemirror_mode": {
    "name": "ipython",
    "version": 2
   },
   "file_extension": ".py",
   "mimetype": "text/x-python",
   "name": "python",
   "nbconvert_exporter": "python",
   "pygments_lexer": "ipython2",
   "version": "2.7.6"
  }
 },
 "nbformat": 4,
 "nbformat_minor": 0
}
