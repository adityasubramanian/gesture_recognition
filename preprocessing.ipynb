{
 "cells": [
  {
   "cell_type": "code",
   "execution_count": 16,
   "metadata": {
    "collapsed": false
   },
   "outputs": [],
   "source": [
    "import os\n",
    "import pandas as pd\n",
    "import numpy as np\n",
    "import scipy as sp\n",
    "import sklearn\n",
    "from sklearn import preprocessing\n",
    "from sklearn import cross_validation\n",
    "from sklearn.cross_validation import KFold\n",
    "from sklearn.feature_selection import RFECV\n",
    "from sklearn.linear_model import LogisticRegression\n",
    "from sklearn.metrics import zero_one_loss"
   ]
  },
  {
   "cell_type": "code",
   "execution_count": 17,
   "metadata": {
    "collapsed": false
   },
   "outputs": [],
   "source": [
    "# Setting up data input types. \n",
    "\n",
    "#Train \n",
    "\n",
    "X_train = np.loadtxt('/home/aditya/Documents/UIUC/spring_2016/STAT427/project/uci_har_dataset/train/X_train.txt')\n",
    "y_train = np.loadtxt('/home/aditya/Documents/UIUC/spring_2016/STAT427/project/uci_har_dataset/train/y_train.txt', dtype=np.int)\n",
    "persons_train = np.loadtxt('/home/aditya/Documents/UIUC/spring_2016/STAT427/project/uci_har_dataset/train/subject_train.txt', dtype=np.int)\n",
    "\n",
    "#Test \n",
    "X_test = np.loadtxt('/home/aditya/Documents/UIUC/spring_2016/STAT427/project/uci_har_dataset/test/X_test.txt')\n",
    "y_test = np.loadtxt('/home/aditya/Documents/UIUC/spring_2016/STAT427/project/uci_har_dataset/test/y_test.txt', dtype=np.int)\n",
    "persons_test = np.loadtxt('/home/aditya/Documents/UIUC/spring_2016/STAT427/project/uci_har_dataset/test/subject_test.txt', dtype=np.int)\n",
    "\n",
    "# X and Y for both axises. \n",
    "X_all = np.concatenate([X_train, X_test])\n",
    "y_all = np.concatenate([y_train, y_test])\n",
    "    \n",
    "feature_names = [x.split(' ')[1] for x in open('/home/aditya/Documents/UIUC/spring_2016/STAT427/project/uci_har_dataset/features.txt').read().split('\\n') if len(x) > 0]\n"
   ]
  },
  {
   "cell_type": "code",
   "execution_count": 18,
   "metadata": {
    "collapsed": false
   },
   "outputs": [],
   "source": [
    "def SVM_feature_extraction():\n",
    "    clf = svm.LinearSVC\n",
    "    clf.fit(X_train,y_train)\n",
    "    X_train_t = clf.decision_function(X_train)\n",
    "    X_test_t = clf.decision_function(X_test)\n",
    "    \n",
    "    return (X_train_t, X_test_t)\n"
   ]
  },
  {
   "cell_type": "code",
   "execution_count": 19,
   "metadata": {
    "collapsed": true
   },
   "outputs": [],
   "source": [
    "def run_clfs_on_data(classifiers, Xs, ys, add_last_action = False):\n",
    "    results = {}\n",
    "    for name, clf in classifiers.iteritems():\n",
    "        print \"running %s\" % name\n",
    "        clf_results = fit_clf_kfold(clf['clf'], Xs, ys, flatten=not clf['structured'], add_last_action=add_last_action)\n",
    "        # with feature selection:\n",
    "        clf_results = fit_clf_kfold(clf['clf'], [X[:,select_features] for X in X_pers_all], y_pers_all,flatten=not clf['structured'])\n",
    "        results[name] = clf_results\n",
    "    return results\n"
   ]
  },
  {
   "cell_type": "code",
   "execution_count": 20,
   "metadata": {
    "collapsed": true
   },
   "outputs": [],
   "source": [
    "def plot_most_important_features(clf, label_names, feature_names, n=10, best=True, absolut=True):\n",
    "    if absolut:\n",
    "        ranked_features = np.argsort(np.abs(clf.coef_), axis=None)\n",
    "    else:\n",
    "        ranked_features = np.argsort(clf.coef_, axis=None)\n",
    "        \n",
    "    if best:\n",
    "        ranked_features = ranked_features[::-1] #inverse to get the best first\n",
    "        \n",
    "    for i, fweights_idx in enumerate(ranked_features[:n]):\n",
    "            label_idx,feature_idx = np.unravel_index(fweights_idx, clf.coef_.shape)\n",
    "            print \"%d. f: %s\\t\\t c: %s\\t value: %f\" % (i, feature_names[feature_idx], label_names[label_idx], clf.coef_[(label_idx,feature_idx)])\n"
   ]
  },
  {
   "cell_type": "code",
   "execution_count": 22,
   "metadata": {
    "collapsed": true
   },
   "outputs": [],
   "source": [
    "def main(X_train,y_train,persons_train, X_test, y_test, persons_test, X_all, y_all): \n",
    "    print \"Data:\"\n",
    "    X_train_pers, y_train_pers = unflatten_per_person(X_train, y_train, persons_train)\n",
    "    X_test_pers, y_test_pers = unflatten_per_person(X_test, y_test, persons_test)\n"
   ]
  },
  {
   "cell_type": "code",
   "execution_count": null,
   "metadata": {
    "collapsed": true
   },
   "outputs": [],
   "source": []
  }
 ],
 "metadata": {
  "kernelspec": {
   "display_name": "Python 2",
   "language": "python",
   "name": "python2"
  },
  "language_info": {
   "codemirror_mode": {
    "name": "ipython",
    "version": 2
   },
   "file_extension": ".py",
   "mimetype": "text/x-python",
   "name": "python",
   "nbconvert_exporter": "python",
   "pygments_lexer": "ipython2",
   "version": "2.7.6"
  }
 },
 "nbformat": 4,
 "nbformat_minor": 0
}
