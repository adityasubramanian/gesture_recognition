{
 "cells": [
  {
   "cell_type": "code",
   "execution_count": 13,
   "metadata": {
    "collapsed": false
   },
   "outputs": [
    {
     "ename": "ImportError",
     "evalue": "cannot import name flatten_data",
     "output_type": "error",
     "traceback": [
      "\u001b[1;31m---------------------------------------------------------------------------\u001b[0m",
      "\u001b[1;31mImportError\u001b[0m                               Traceback (most recent call last)",
      "\u001b[1;32m<ipython-input-13-dd3f86747085>\u001b[0m in \u001b[0;36m<module>\u001b[1;34m()\u001b[0m\n\u001b[0;32m      4\u001b[0m \u001b[1;32mimport\u001b[0m \u001b[0mscipy\u001b[0m \u001b[1;32mas\u001b[0m \u001b[0msp\u001b[0m\u001b[1;33m\u001b[0m\u001b[0m\n\u001b[0;32m      5\u001b[0m \u001b[1;32mimport\u001b[0m \u001b[0msklearn\u001b[0m\u001b[1;33m\u001b[0m\u001b[0m\n\u001b[1;32m----> 6\u001b[1;33m \u001b[1;32mimport\u001b[0m \u001b[0mcrf\u001b[0m\u001b[1;33m,\u001b[0m \u001b[0mutils\u001b[0m\u001b[1;33m\u001b[0m\u001b[0m\n\u001b[0m\u001b[0;32m      7\u001b[0m \u001b[1;32mfrom\u001b[0m \u001b[0msklearn\u001b[0m \u001b[1;32mimport\u001b[0m \u001b[0mpreprocessing\u001b[0m\u001b[1;33m\u001b[0m\u001b[0m\n\u001b[0;32m      8\u001b[0m \u001b[1;32mfrom\u001b[0m \u001b[0msklearn\u001b[0m \u001b[1;32mimport\u001b[0m \u001b[0mcross_validation\u001b[0m\u001b[1;33m\u001b[0m\u001b[0m\n",
      "\u001b[1;32m/home/aditya/Documents/UIUC/spring_2016/STAT427/project/gesture_recognition/crf.py\u001b[0m in \u001b[0;36m<module>\u001b[1;34m()\u001b[0m\n\u001b[0;32m     13\u001b[0m \u001b[1;32mfrom\u001b[0m \u001b[0msklearn\u001b[0m\u001b[1;33m.\u001b[0m\u001b[0mpreprocessing\u001b[0m \u001b[1;32mimport\u001b[0m \u001b[0mLabelBinarizer\u001b[0m\u001b[1;33m\u001b[0m\u001b[0m\n\u001b[0;32m     14\u001b[0m \u001b[1;33m\u001b[0m\u001b[0m\n\u001b[1;32m---> 15\u001b[1;33m \u001b[1;32mfrom\u001b[0m \u001b[0mutils\u001b[0m \u001b[1;32mimport\u001b[0m \u001b[0mflatten_data\u001b[0m\u001b[1;33m\u001b[0m\u001b[0m\n\u001b[0m\u001b[0;32m     16\u001b[0m \u001b[1;33m\u001b[0m\u001b[0m\n\u001b[0;32m     17\u001b[0m \u001b[1;32mfrom\u001b[0m \u001b[0msklearn\u001b[0m\u001b[1;33m.\u001b[0m\u001b[0mbase\u001b[0m \u001b[1;32mimport\u001b[0m \u001b[0mBaseEstimator\u001b[0m\u001b[1;33m\u001b[0m\u001b[0m\n",
      "\u001b[1;31mImportError\u001b[0m: cannot import name flatten_data"
     ]
    }
   ],
   "source": [
    "import os\n",
    "import pandas as pd\n",
    "import numpy as np\n",
    "import scipy as sp\n",
    "import sklearn\n",
    "import crf, utils\n",
    "from sklearn import preprocessing\n",
    "from sklearn import cross_validation\n",
    "from sklearn.cross_validation import KFold\n",
    "from sklearn.feature_selection import RFECV\n",
    "from sklearn.linear_model import LogisticRegression\n",
    "from sklearn.metrics import zero_one_loss\n",
    "from sklearn.svm.classes import LinearSVC\n",
    "from sklearn import svm\n",
    "from sklearn.linear_model import LogisticRegression\n",
    "from sklearn.linear_model import SGDClassifier\n",
    "from sklearn.naive_bayes import GaussianNB\n",
    "from sklearn.tree import DecisionTreeClassifier\n",
    "from sklearn.ensemble import GradientBoostingClassifier\n",
    "from sklearn.ensemble import RandomForestClassifier\n",
    "from sklearn.neighbors import KNeighborsClassifier\n",
    "#from sklearn.preprocessing import Scaler\n",
    "#from sklearn.preprocessing import OneHotEncoder\n",
    "#from svmhmm import SVMHMMCRF\n",
    "from sklearn.metrics import accuracy_score\n",
    "from sklearn.metrics import confusion_matrix, classification_report\n",
    "from sklearn.svm.classes import LinearSVC"
   ]
  },
  {
   "cell_type": "code",
   "execution_count": 4,
   "metadata": {
    "collapsed": false
   },
   "outputs": [],
   "source": [
    "# Setting up data input types. \n",
    "\n",
    "#Train \n",
    "\n",
    "X_train = np.loadtxt('/home/aditya/Documents/UIUC/spring_2016/STAT427/project/uci_har_dataset/train/X_train.txt')\n",
    "y_train = np.loadtxt('/home/aditya/Documents/UIUC/spring_2016/STAT427/project/uci_har_dataset/train/y_train.txt', dtype=np.int)\n",
    "persons_train = np.loadtxt('/home/aditya/Documents/UIUC/spring_2016/STAT427/project/uci_har_dataset/train/subject_train.txt', dtype=np.int)\n",
    "\n",
    "#Test \n",
    "X_test = np.loadtxt('/home/aditya/Documents/UIUC/spring_2016/STAT427/project/uci_har_dataset/test/X_test.txt')\n",
    "y_test = np.loadtxt('/home/aditya/Documents/UIUC/spring_2016/STAT427/project/uci_har_dataset/test/y_test.txt', dtype=np.int)\n",
    "persons_test = np.loadtxt('/home/aditya/Documents/UIUC/spring_2016/STAT427/project/uci_har_dataset/test/subject_test.txt', dtype=np.int)\n",
    "\n",
    "# X and Y for both axises. \n",
    "X_all = np.concatenate([X_train, X_test])\n",
    "y_all = np.concatenate([y_train, y_test])\n",
    "    \n",
    "feature_names = [x.split(' ')[1] for x in open('/home/aditya/Documents/UIUC/spring_2016/STAT427/project/uci_har_dataset/features.txt').read().split('\\n') if len(x) > 0]\n"
   ]
  },
  {
   "cell_type": "code",
   "execution_count": 5,
   "metadata": {
    "collapsed": true
   },
   "outputs": [],
   "source": [
    "def SVM_feature_extraction():\n",
    "    clf = svm.LinearSVC\n",
    "    clf.fit(X_train,y_train)\n",
    "    X_train_t = clf.decision_function(X_train)\n",
    "    X_test_t = clf.decision_function(X_test)\n",
    "    \n",
    "    return (X_train_t, X_test_t)\n"
   ]
  },
  {
   "cell_type": "code",
   "execution_count": 6,
   "metadata": {
    "collapsed": true
   },
   "outputs": [],
   "source": [
    "def run_clfs_on_data(classifiers, Xs, ys, add_last_action = False):\n",
    "    results = {}\n",
    "    for name, clf in classifiers.iteritems():\n",
    "        print \"running %s\" % name\n",
    "        clf_results = fit_clf_kfold(clf['clf'], Xs, ys, flatten=not clf['structured'], add_last_action=add_last_action)\n",
    "        # with feature selection:\n",
    "        clf_results = fit_clf_kfold(clf['clf'], [X[:,select_features] for X in X_pers_all], y_pers_all,flatten=not clf['structured'])\n",
    "        results[name] = clf_results\n",
    "    return results\n"
   ]
  },
  {
   "cell_type": "code",
   "execution_count": 7,
   "metadata": {
    "collapsed": true
   },
   "outputs": [],
   "source": [
    "def plot_most_important_features(clf, label_names, feature_names, n=10, best=True, absolut=True):\n",
    "    if absolut:\n",
    "        ranked_features = np.argsort(np.abs(clf.coef_), axis=None)\n",
    "    else:\n",
    "        ranked_features = np.argsort(clf.coef_, axis=None)\n",
    "        \n",
    "    if best:\n",
    "        ranked_features = ranked_features[::-1] #inverse to get the best first\n",
    "        \n",
    "    for i, fweights_idx in enumerate(ranked_features[:n]):\n",
    "            label_idx,feature_idx = np.unravel_index(fweights_idx, clf.coef_.shape)\n",
    "            print \"%d. f: %s\\t\\t c: %s\\t value: %f\" % (i, feature_names[feature_idx], label_names[label_idx], clf.coef_[(label_idx,feature_idx)])\n",
    "            \n",
    "    "
   ]
  },
  {
   "cell_type": "code",
   "execution_count": 8,
   "metadata": {
    "collapsed": true
   },
   "outputs": [],
   "source": [
    "def unflatten_per_person(X_all,y_all,persons_all):\n",
    "    \"\"\"\n",
    "        X: n_samples, n_features\n",
    "            The full feature matrix.\n",
    "        y: label for each row in X\n",
    "        person: person label for each row in X\n",
    "        \n",
    "        returns: (X_person, y_person) \n",
    "            X_person: n_persons array of X and y that apply to this person.\n",
    "    \"\"\"\n",
    "    Xtotal, y_total, Xperson, y_person = [], [], [], []\n",
    "    last_person = persons_all[0]\n",
    "    for row,y,person in zip(X_all,y_all,persons_all):\n",
    "        if person != last_person:\n",
    "            Xtotal.append(Xperson)\n",
    "            y_total.append(y_person)\n",
    "            Xperson = []\n",
    "            y_person = []\n",
    "        Xperson.append(row)\n",
    "        y_person.append(y)\n",
    "        \n",
    "        last_person = person\n",
    "        \n",
    "    Xtotal.append(Xperson)\n",
    "    y_total.append(y_person)\n",
    "    \n",
    "    return ([np.array(x) for x in Xtotal], [np.array(y) for y in y_total])"
   ]
  },
  {
   "cell_type": "code",
   "execution_count": 9,
   "metadata": {
    "collapsed": true
   },
   "outputs": [],
   "source": [
    "def main(X_train,y_train,persons_train, X_test, y_test, persons_test, X_all, y_all): \n",
    "    print \"Data:\"\n",
    "    X_train_pers, y_train_pers = unflatten_per_person(X_train, y_train, persons_train)\n",
    "    X_test_pers, y_test_pers = unflatten_per_person(X_test, y_test, persons_test)\n",
    "    X_pers_all = []\n",
    "    X_pers_all.extend(X_train_pers)\n",
    "    X_pers_all.extend(X_test_pers)\n",
    "    y_pers_all = []\n",
    "    y_pers_all.extend(y_train_pers)\n",
    "    y_pers_all.extend(y_test_pers)\n",
    "    \n",
    "    \n",
    "    print \"training classifier\"\n",
    "    \n",
    "    ensemble_classifiers = {\n",
    "                                \"linear Support Vector Classifier\": {'clf': LinearSVC(), 'structured': False},\n",
    "                                \"Logistic Regression\": {'clf': LogisticRegression(), 'structured': False},\n",
    "                                \"SGDClassifier\":{'clf': SGDClassifier(),'structured':False},\n",
    "                                }\n",
    "    \n",
    "    crf_ensemble = LinearCRFEnsemble(ensemble_classifiers, addone=True, regularization=None, lmbd=0.01, sigma=100, transition_weighting=True)\n",
    "    \n",
    "    classifiers = {\n",
    "                   \"SGDClassifier\":{'clf': SGDClassifier(),'structured':False},\n",
    "                   \"Logistic Regression\": {'clf': LogisticRegression(), 'structured': False},\n",
    "                   \"linear Support Vector Classifier\": {'clf': LinearSVC(), 'structured': False},\n",
    "                   \"Gaussian Naive Bayes\": {'clf': GaussianNB(), 'structured': False},\n",
    "                   #\"SVMHMM\": {'clf': SVMHMMCRF(C=1), 'structured': True},\n",
    "                   \"KNN (weights: uniform, neighbors=5)\": {'clf': KNeighborsClassifier(), 'structured': False},\n",
    "                   \"Decision Tree\": {'clf': DecisionTreeClassifier(), 'structured': False},\n",
    "                   \"RandomForest\": {'clf': RandomForestClassifier(), 'structured': False},\n",
    "                   \"CRF\": {'clf': LinearCRF(feature_names=feature_names, label_names=labels, addone=True, regularization=\"l2\", lmbd=0.01, sigma=100, transition_weighting=False),\n",
    "                            'structured': True},\n",
    "                   }\n",
    "    \n",
    "    results = run_clfs_on_data(classifiers, X_pers_all, y_pers_all)\n",
    "    \n",
    "    results_last_action = run_clfs_on_data(classifiers, X_pers_all, y_pers_all, add_last_action=True)\n",
    "    \n",
    "    for clf_name in results:\n",
    "        clf_results = results[clf_name]\n",
    "        accuracies = np.array([accuracy_score(gold, predict) for gold, predict in clf_results])\n",
    "        print accuracies\n",
    "        print \"%s accuracy: %f +- %f\" % (clf_name, accuracies.mean(), accuracies.std())\n",
    "        smoothness_predict = np.array([label_smoothness(predict) for gold, predict in clf_results])\n",
    "        print \"%s smoothness: %f +- %f\" % (clf_name, smoothness_predict.mean(), smoothness_predict.std())\n",
    "        smoothness_gold = np.array([label_smoothness(gold) for gold, predict in clf_results])\n",
    "        print \"smoothess(gold): %f +- %f\" % (smoothness_gold.mean(), smoothness_gold.std())\n",
    "        \n",
    "        y_all_gold = np.concatenate(zip(*clf_results)[0])\n",
    "        y_all_predict = np.concatenate(zip(*clf_results)[1])\n",
    "        \n",
    "        print classification_report(y_all_gold, y_all_predict, target_names = labels)\n",
    "        print confusion_matrix_report(y_all_gold, y_all_predict, labels)\n",
    "        print confusion_matrix(y_all_gold, y_all_predict)\n",
    "        \n",
    "        \n",
    "    \n",
    "    crf_classifiers =  {\n",
    "                        \"CRF\": {'clf': LinearCRF(feature_names=feature_names, label_names=labels, addone=True, regularization=\"l2\", lmbd=0.01, sigma=100, transition_weighting=False),\n",
    "                            'structured': True},\n",
    "                        \"CRF transition weights\": {'clf': LinearCRF(feature_names=feature_names, label_names=labels, addone=True, regularization=\"l2\", lmbd=0.01, sigma=100, transition_weighting=True),\n",
    "                            'structured': True},\n",
    "                        }\n",
    "    \n",
    "    crf_unregularized_classifiers =  {\n",
    "                        \"CRF\": {'clf': LinearCRF(feature_names=feature_names, label_names=labels, addone=True, regularization=None, lmbd=0.01, sigma=10, transition_weighting=False),\n",
    "                            'structured': True},\n",
    "                        \"CRF transition weights\": {'clf': LinearCRF(feature_names=feature_names, label_names=labels, addone=True, regularization=None, lmbd=0.01, sigma=10, transition_weighting=True),\n",
    "                            'structured': True},\n",
    "                        }\n",
    "    \n",
    "    crf_classifiers_l2_best = {\n",
    "                   \"CRF (sigma=1)\": {'clf': LinearCRF(feature_names=feature_names, label_names=labels, addone=True, regularization=\"l2\", lmbd=0.01, sigma=1, transition_weighting=False),\n",
    "                            'structured': True},\n",
    "                   \"CRF (sigma=10)\": {'clf': LinearCRF(feature_names=feature_names, label_names=labels, addone=True, regularization=\"l2\", lmbd=0.01, sigma=10, transition_weighting=False),\n",
    "                            'structured': True},\n",
    "                    \"CRF (sigma=100)\": {'clf': LinearCRF(feature_names=feature_names, label_names=labels, addone=True, regularization=\"l2\", lmbd=0.01, sigma=100, transition_weighting=False),\n",
    "                            'structured': True},\n",
    "                    \"CRF (sigma=1000)\": {'clf': LinearCRF(feature_names=feature_names, label_names=labels, addone=True, regularization=\"l2\", lmbd=0.01, sigma=1000, transition_weighting=False),\n",
    "                            'structured': True},\n",
    "                    \"CRF (sigma=.1)\": {'clf': LinearCRF(feature_names=feature_names, label_names=labels, addone=True, regularization=\"l2\", lmbd=0.01, sigma=0.1, transition_weighting=False),\n",
    "                            'structured': True},\n",
    "                   }\n",
    "\n",
    "    "
   ]
  },
  {
   "cell_type": "code",
   "execution_count": null,
   "metadata": {
    "collapsed": true
   },
   "outputs": [],
   "source": []
  },
  {
   "cell_type": "code",
   "execution_count": null,
   "metadata": {
    "collapsed": false
   },
   "outputs": [],
   "source": []
  },
  {
   "cell_type": "code",
   "execution_count": 10,
   "metadata": {
    "collapsed": false
   },
   "outputs": [
    {
     "name": "stdout",
     "output_type": "stream",
     "text": [
      "Data:\n",
      "training classifier\n"
     ]
    },
    {
     "ename": "NameError",
     "evalue": "global name 'LinearCRFEnsemble' is not defined",
     "output_type": "error",
     "traceback": [
      "\u001b[1;31m---------------------------------------------------------------------------\u001b[0m",
      "\u001b[1;31mNameError\u001b[0m                                 Traceback (most recent call last)",
      "\u001b[1;32m<ipython-input-10-cf5ad87a9eb7>\u001b[0m in \u001b[0;36m<module>\u001b[1;34m()\u001b[0m\n\u001b[1;32m----> 1\u001b[1;33m \u001b[0mmain\u001b[0m\u001b[1;33m(\u001b[0m\u001b[0mX_train\u001b[0m\u001b[1;33m,\u001b[0m\u001b[0my_train\u001b[0m\u001b[1;33m,\u001b[0m\u001b[0mpersons_train\u001b[0m\u001b[1;33m,\u001b[0m \u001b[0mX_test\u001b[0m\u001b[1;33m,\u001b[0m \u001b[0my_test\u001b[0m\u001b[1;33m,\u001b[0m \u001b[0mpersons_test\u001b[0m\u001b[1;33m,\u001b[0m \u001b[0mX_all\u001b[0m\u001b[1;33m,\u001b[0m \u001b[0my_all\u001b[0m\u001b[1;33m)\u001b[0m\u001b[1;33m\u001b[0m\u001b[0m\n\u001b[0m",
      "\u001b[1;32m<ipython-input-9-74b910d78bf8>\u001b[0m in \u001b[0;36mmain\u001b[1;34m(X_train, y_train, persons_train, X_test, y_test, persons_test, X_all, y_all)\u001b[0m\n\u001b[0;32m     19\u001b[0m                                 }\n\u001b[0;32m     20\u001b[0m \u001b[1;33m\u001b[0m\u001b[0m\n\u001b[1;32m---> 21\u001b[1;33m     \u001b[0mcrf_ensemble\u001b[0m \u001b[1;33m=\u001b[0m \u001b[0mLinearCRFEnsemble\u001b[0m\u001b[1;33m(\u001b[0m\u001b[0mensemble_classifiers\u001b[0m\u001b[1;33m,\u001b[0m \u001b[0maddone\u001b[0m\u001b[1;33m=\u001b[0m\u001b[0mTrue\u001b[0m\u001b[1;33m,\u001b[0m \u001b[0mregularization\u001b[0m\u001b[1;33m=\u001b[0m\u001b[0mNone\u001b[0m\u001b[1;33m,\u001b[0m \u001b[0mlmbd\u001b[0m\u001b[1;33m=\u001b[0m\u001b[1;36m0.01\u001b[0m\u001b[1;33m,\u001b[0m \u001b[0msigma\u001b[0m\u001b[1;33m=\u001b[0m\u001b[1;36m100\u001b[0m\u001b[1;33m,\u001b[0m \u001b[0mtransition_weighting\u001b[0m\u001b[1;33m=\u001b[0m\u001b[0mTrue\u001b[0m\u001b[1;33m)\u001b[0m\u001b[1;33m\u001b[0m\u001b[0m\n\u001b[0m\u001b[0;32m     22\u001b[0m \u001b[1;33m\u001b[0m\u001b[0m\n\u001b[0;32m     23\u001b[0m     classifiers = {\n",
      "\u001b[1;31mNameError\u001b[0m: global name 'LinearCRFEnsemble' is not defined"
     ]
    }
   ],
   "source": [
    "main(X_train,y_train,persons_train, X_test, y_test, persons_test, X_all, y_all)"
   ]
  },
  {
   "cell_type": "code",
   "execution_count": null,
   "metadata": {
    "collapsed": true
   },
   "outputs": [],
   "source": []
  }
 ],
 "metadata": {
  "kernelspec": {
   "display_name": "Python 2",
   "language": "python",
   "name": "python2"
  },
  "language_info": {
   "codemirror_mode": {
    "name": "ipython",
    "version": 2
   },
   "file_extension": ".py",
   "mimetype": "text/x-python",
   "name": "python",
   "nbconvert_exporter": "python",
   "pygments_lexer": "ipython2",
   "version": "2.7.6"
  }
 },
 "nbformat": 4,
 "nbformat_minor": 0
}
